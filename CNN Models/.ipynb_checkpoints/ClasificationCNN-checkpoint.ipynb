{
 "cells": [
  {
   "cell_type": "code",
   "execution_count": 1,
   "metadata": {},
   "outputs": [
    {
     "name": "stderr",
     "output_type": "stream",
     "text": [
      "Using TensorFlow backend.\n"
     ]
    }
   ],
   "source": [
    "import numpy as np\n",
    "import pandas as pd\n",
    "import seaborn as sns\n",
    "from sklearn.linear_model import LinearRegression\n",
    "import matplotlib.pyplot as plt\n",
    "from sklearn.model_selection import train_test_split\n",
    "from sklearn.feature_selection import RFE\n",
    "from sklearn.metrics import mean_squared_error, r2_score\n",
    "import os, fnmatch\n",
    "from sklearn.cluster import KMeans\n",
    "from sklearn.preprocessing import PolynomialFeatures \n",
    "import seaborn as sns\n",
    "%matplotlib inline\n",
    "from keras.layers import Input, Dense\n",
    "from keras.models import Model\n",
    "# from keras.op\n",
    "from keras import optimizers\n",
    "from keras import regularizers\n",
    "from PIL import Image\n",
    "from sklearn import preprocessing\n",
    "from sklearn.model_selection import train_test_split\n",
    "\n",
    "import keras\n",
    "from keras.models import load_model\n",
    "from keras.datasets import cifar10\n",
    "from keras.layers import Input, Dense, Conv2D, MaxPooling2D, UpSampling2D, BatchNormalization, Activation\n",
    "from keras.models import Model\n",
    "from keras.callbacks import EarlyStopping, ModelCheckpoint\n",
    "from keras.optimizers import Adam\n",
    "import os\n",
    "import pickle\n",
    "import numpy as np\n",
    "from keras.preprocessing.image import ImageDataGenerator, array_to_img, img_to_array"
   ]
  },
  {
   "cell_type": "code",
   "execution_count": 2,
   "metadata": {},
   "outputs": [],
   "source": [
    "class_path = \"./DataCreation/Dataset/Train_8bit/\"\n",
    "data_train = []\n",
    "data_train_names = os.listdir(class_path)\n",
    "pattern = \"*.tiff\"\n",
    "for entry in data_train_names:\n",
    "    if fnmatch.fnmatch(entry, pattern):\n",
    "            data_train.append(class_path+entry)"
   ]
  },
  {
   "cell_type": "code",
   "execution_count": 3,
   "metadata": {},
   "outputs": [
    {
     "name": "stdout",
     "output_type": "stream",
     "text": [
      "9451 9451\n"
     ]
    }
   ],
   "source": [
    "print(len(data_train_names), len(data_train))"
   ]
  },
  {
   "cell_type": "code",
   "execution_count": 4,
   "metadata": {},
   "outputs": [],
   "source": [
    "class_path = \"./DataCreation/Dataset/Test_8bit/\"\n",
    "data_test = []\n",
    "data_test_names = os.listdir(class_path)\n",
    "pattern = \"*.tiff\"\n",
    "for entry in data_test_names:\n",
    "    if fnmatch.fnmatch(entry, pattern):\n",
    "            data_test.append(class_path+entry)"
   ]
  },
  {
   "cell_type": "code",
   "execution_count": 5,
   "metadata": {},
   "outputs": [
    {
     "name": "stdout",
     "output_type": "stream",
     "text": [
      "2708 2708\n"
     ]
    }
   ],
   "source": [
    "print(len(data_test_names), len(data_test))"
   ]
  },
  {
   "cell_type": "code",
   "execution_count": 6,
   "metadata": {},
   "outputs": [],
   "source": [
    "data_train_list = []\n",
    "for i in range(len(data_train)):\n",
    "    arr_obj = []\n",
    "    cl = (data_train[i].split(\"/\")[4]).split(\"~~~\")[0]\n",
    "    if cl == \"Sy1\" or cl == \"cv\" or cl == \"WD\" or cl == \"QSO\": continue\n",
    "    arr_obj.append(cl)\n",
    "    arr_obj.append(data_train[i])\n",
    "    data_train_list.append(arr_obj)\n",
    "    \n",
    "data_test_list = []\n",
    "for i in range(len(data_test)):\n",
    "    arr_obj = []\n",
    "    cl = (data_test[i].split(\"/\")[4]).split(\"~~~\")[0]\n",
    "    if cl == \"Sy1\" or cl == \"cv\" or cl == \"WD\" or cl == \"QSO\": continue\n",
    "    arr_obj.append(cl)\n",
    "    arr_obj.append(data_test[i])\n",
    "    data_test_list.append(arr_obj)"
   ]
  },
  {
   "cell_type": "code",
   "execution_count": 7,
   "metadata": {},
   "outputs": [
    {
     "name": "stdout",
     "output_type": "stream",
     "text": [
      "6826 1953\n"
     ]
    }
   ],
   "source": [
    "print(len(data_train_list), len(data_test_list))"
   ]
  },
  {
   "cell_type": "code",
   "execution_count": 8,
   "metadata": {},
   "outputs": [],
   "source": [
    "df_train = pd.DataFrame(data_train_list)\n",
    "df_test = pd.DataFrame(data_test_list)"
   ]
  },
  {
   "cell_type": "code",
   "execution_count": 9,
   "metadata": {},
   "outputs": [
    {
     "data": {
      "text/html": [
       "<div>\n",
       "<style scoped>\n",
       "    .dataframe tbody tr th:only-of-type {\n",
       "        vertical-align: middle;\n",
       "    }\n",
       "\n",
       "    .dataframe tbody tr th {\n",
       "        vertical-align: top;\n",
       "    }\n",
       "\n",
       "    .dataframe thead th {\n",
       "        text-align: right;\n",
       "    }\n",
       "</style>\n",
       "<table border=\"1\" class=\"dataframe\">\n",
       "  <thead>\n",
       "    <tr style=\"text-align: right;\">\n",
       "      <th></th>\n",
       "      <th>0</th>\n",
       "      <th>1</th>\n",
       "    </tr>\n",
       "  </thead>\n",
       "  <tbody>\n",
       "    <tr>\n",
       "      <td>0</td>\n",
       "      <td>C</td>\n",
       "      <td>./DataCreation/Dataset/Train_8bit/C~~~0445+010...</td>\n",
       "    </tr>\n",
       "    <tr>\n",
       "      <td>1</td>\n",
       "      <td>C</td>\n",
       "      <td>./DataCreation/Dataset/Train_8bit/C~~~0445+010...</td>\n",
       "    </tr>\n",
       "    <tr>\n",
       "      <td>2</td>\n",
       "      <td>C</td>\n",
       "      <td>./DataCreation/Dataset/Train_8bit/C~~~0445+010...</td>\n",
       "    </tr>\n",
       "    <tr>\n",
       "      <td>3</td>\n",
       "      <td>C</td>\n",
       "      <td>./DataCreation/Dataset/Train_8bit/C~~~0445+010...</td>\n",
       "    </tr>\n",
       "    <tr>\n",
       "      <td>4</td>\n",
       "      <td>C</td>\n",
       "      <td>./DataCreation/Dataset/Train_8bit/C~~~0445+010...</td>\n",
       "    </tr>\n",
       "  </tbody>\n",
       "</table>\n",
       "</div>"
      ],
      "text/plain": [
       "   0                                                  1\n",
       "0  C  ./DataCreation/Dataset/Train_8bit/C~~~0445+010...\n",
       "1  C  ./DataCreation/Dataset/Train_8bit/C~~~0445+010...\n",
       "2  C  ./DataCreation/Dataset/Train_8bit/C~~~0445+010...\n",
       "3  C  ./DataCreation/Dataset/Train_8bit/C~~~0445+010...\n",
       "4  C  ./DataCreation/Dataset/Train_8bit/C~~~0445+010..."
      ]
     },
     "execution_count": 9,
     "metadata": {},
     "output_type": "execute_result"
    }
   ],
   "source": [
    "df_train.head()"
   ]
  },
  {
   "cell_type": "code",
   "execution_count": 10,
   "metadata": {},
   "outputs": [
    {
     "data": {
      "text/html": [
       "<div>\n",
       "<style scoped>\n",
       "    .dataframe tbody tr th:only-of-type {\n",
       "        vertical-align: middle;\n",
       "    }\n",
       "\n",
       "    .dataframe tbody tr th {\n",
       "        vertical-align: top;\n",
       "    }\n",
       "\n",
       "    .dataframe thead th {\n",
       "        text-align: right;\n",
       "    }\n",
       "</style>\n",
       "<table border=\"1\" class=\"dataframe\">\n",
       "  <thead>\n",
       "    <tr style=\"text-align: right;\">\n",
       "      <th></th>\n",
       "      <th>0</th>\n",
       "      <th>1</th>\n",
       "    </tr>\n",
       "  </thead>\n",
       "  <tbody>\n",
       "    <tr>\n",
       "      <td>0</td>\n",
       "      <td>C</td>\n",
       "      <td>./DataCreation/Dataset/Test_8bit/C~~~0833-0605...</td>\n",
       "    </tr>\n",
       "    <tr>\n",
       "      <td>1</td>\n",
       "      <td>C</td>\n",
       "      <td>./DataCreation/Dataset/Test_8bit/C~~~0833-0605...</td>\n",
       "    </tr>\n",
       "    <tr>\n",
       "      <td>2</td>\n",
       "      <td>C</td>\n",
       "      <td>./DataCreation/Dataset/Test_8bit/C~~~0833-0605...</td>\n",
       "    </tr>\n",
       "    <tr>\n",
       "      <td>3</td>\n",
       "      <td>C</td>\n",
       "      <td>./DataCreation/Dataset/Test_8bit/C~~~0833-0605...</td>\n",
       "    </tr>\n",
       "    <tr>\n",
       "      <td>4</td>\n",
       "      <td>C</td>\n",
       "      <td>./DataCreation/Dataset/Test_8bit/C~~~0833-0605...</td>\n",
       "    </tr>\n",
       "  </tbody>\n",
       "</table>\n",
       "</div>"
      ],
      "text/plain": [
       "   0                                                  1\n",
       "0  C  ./DataCreation/Dataset/Test_8bit/C~~~0833-0605...\n",
       "1  C  ./DataCreation/Dataset/Test_8bit/C~~~0833-0605...\n",
       "2  C  ./DataCreation/Dataset/Test_8bit/C~~~0833-0605...\n",
       "3  C  ./DataCreation/Dataset/Test_8bit/C~~~0833-0605...\n",
       "4  C  ./DataCreation/Dataset/Test_8bit/C~~~0833-0605..."
      ]
     },
     "execution_count": 10,
     "metadata": {},
     "output_type": "execute_result"
    }
   ],
   "source": [
    "df_test.head()"
   ]
  },
  {
   "cell_type": "code",
   "execution_count": 11,
   "metadata": {},
   "outputs": [
    {
     "data": {
      "text/plain": [
       "sd     2750\n",
       "C      1650\n",
       "Mrk    1525\n",
       "M       770\n",
       "PN      131\n",
       "Name: 0, dtype: int64"
      ]
     },
     "execution_count": 11,
     "metadata": {},
     "output_type": "execute_result"
    }
   ],
   "source": [
    "df_train[0].value_counts()"
   ]
  },
  {
   "cell_type": "code",
   "execution_count": 12,
   "metadata": {},
   "outputs": [
    {
     "data": {
      "text/plain": [
       "sd     785\n",
       "C      470\n",
       "Mrk    430\n",
       "M      220\n",
       "PN      48\n",
       "Name: 0, dtype: int64"
      ]
     },
     "execution_count": 12,
     "metadata": {},
     "output_type": "execute_result"
    }
   ],
   "source": [
    "df_test[0].value_counts()"
   ]
  },
  {
   "cell_type": "code",
   "execution_count": 13,
   "metadata": {},
   "outputs": [],
   "source": [
    "from sklearn import preprocessing\n",
    "le = preprocessing.LabelEncoder()\n",
    "le.fit(df_train[0])\n",
    "df_train[0]=le.transform(df_train[0])"
   ]
  },
  {
   "cell_type": "code",
   "execution_count": 14,
   "metadata": {},
   "outputs": [
    {
     "data": {
      "text/plain": [
       "4    2750\n",
       "0    1650\n",
       "2    1525\n",
       "1     770\n",
       "3     131\n",
       "Name: 0, dtype: int64"
      ]
     },
     "execution_count": 14,
     "metadata": {},
     "output_type": "execute_result"
    }
   ],
   "source": [
    "df_train[0].value_counts()"
   ]
  },
  {
   "cell_type": "code",
   "execution_count": 15,
   "metadata": {},
   "outputs": [],
   "source": [
    "for index, Row in df_test.iterrows():\n",
    "    cl = Row[0]\n",
    "    if cl == 'sd':\n",
    "        df_test.at[index, 0] = 4\n",
    "    elif cl == \"C\":\n",
    "        df_test.at[index, 0] = 0\n",
    "    elif cl == \"Mrk\":\n",
    "        df_test.at[index, 0] = 2\n",
    "    elif cl == \"M\":\n",
    "        df_test.at[index, 0] = 1\n",
    "    elif cl == \"PN\":\n",
    "        df_test.at[index, 0] = 3\n",
    "#    elif cl == \"Sy1\":\n",
    "#        df_test.at[index, 0] = 5\n",
    "#    elif cl == \"WD\":\n",
    "#        df_test.at[index, 0] = 6\n",
    "#    elif cl == \"PN\":\n",
    "#        df_test.at[index, 0] = 3\n",
    "#    elif cl == \"cv\":\n",
    "#        df_test.at[index, 0] = 7"
   ]
  },
  {
   "cell_type": "code",
   "execution_count": 16,
   "metadata": {},
   "outputs": [
    {
     "data": {
      "text/plain": [
       "4    785\n",
       "0    470\n",
       "2    430\n",
       "1    220\n",
       "3     48\n",
       "Name: 0, dtype: int64"
      ]
     },
     "execution_count": 16,
     "metadata": {},
     "output_type": "execute_result"
    }
   ],
   "source": [
    "df_test[0].value_counts()"
   ]
  },
  {
   "cell_type": "code",
   "execution_count": 17,
   "metadata": {},
   "outputs": [],
   "source": [
    "X_tr = df_train.iloc[:, 1]\n",
    "Y_tr = df_train.iloc[:, 0]\n",
    "X_tr = X_tr.values\n",
    "Y_tr = Y_tr.values\n",
    "\n",
    "X_ts = df_test.iloc[:, 1]\n",
    "Y_ts = df_test.iloc[:, 0]\n",
    "X_ts = X_ts.values\n",
    "Y_ts = Y_ts.values"
   ]
  },
  {
   "cell_type": "code",
   "execution_count": 18,
   "metadata": {},
   "outputs": [],
   "source": [
    "images_list_train = []\n",
    "max_width = 0\n",
    "max_height = 0\n",
    "ind = 0\n",
    "for i in range(len(X_tr)):\n",
    "    im = Image.open(X_tr[i])\n",
    "    arr = np.array(im)#.flatten()\n",
    "    \n",
    "    arr=(arr-arr.min())/(arr.max()-arr.min())\n",
    "    #arr = arr / 0xffff\n",
    "    s = arr.shape\n",
    "    if s[0] > max_height:\n",
    "        max_height = s[0]\n",
    "    if s[1] > max_width:\n",
    "        max_width = s[1]\n",
    "        ind = i\n",
    "    images_list_train.append(arr)\n",
    "    \n",
    "images_list_test = []\n",
    "ind = 0\n",
    "for i in range(len(X_ts)):\n",
    "    im = Image.open(X_ts[i])\n",
    "    arr = np.array(im)#.flatten()\n",
    "    \n",
    "    arr=(arr-arr.min())/(arr.max()-arr.min())\n",
    "    #arr = arr / 0xffff\n",
    "    s = arr.shape\n",
    "    if s[0] > max_height:\n",
    "        max_height = s[0]\n",
    "    if s[1] > max_width:\n",
    "        max_width = s[1]\n",
    "        ind = i\n",
    "    images_list_test.append(arr)"
   ]
  },
  {
   "cell_type": "code",
   "execution_count": 19,
   "metadata": {},
   "outputs": [],
   "source": [
    "max_width = 50\n",
    "max_height = 160"
   ]
  },
  {
   "cell_type": "code",
   "execution_count": 20,
   "metadata": {},
   "outputs": [
    {
     "name": "stdout",
     "output_type": "stream",
     "text": [
      "50 160\n"
     ]
    }
   ],
   "source": [
    "print(max_width, max_height)"
   ]
  },
  {
   "cell_type": "code",
   "execution_count": 21,
   "metadata": {},
   "outputs": [],
   "source": [
    "for i in range(len(images_list_train)):\n",
    "    s = images_list_train[i].shape\n",
    "    d_width = (max_width - s[1])\n",
    "    d_height = (max_height - s[0])\n",
    "    \n",
    "    d_top = int(d_height / 2)\n",
    "    d_bottom = int(d_height - d_top)\n",
    "    \n",
    "    d_left = int(d_width / 2)\n",
    "    d_right = int(d_width - d_left)\n",
    "    #print(d_top, d_bottom, d_left, d_right)\n",
    "    \n",
    "    arr = images_list_train[i]\n",
    "    for l in range(d_left):\n",
    "        arr = np.insert(arr, 0, 0, axis = 1)\n",
    "    \n",
    "    for r in range(d_right):\n",
    "        b = np.zeros((s[0],1))\n",
    "        arr = np.append(arr, b, axis = 1)\n",
    "    \n",
    "    for t in range(d_top):\n",
    "        arr = np.insert(arr, 0, 0, axis = 0)\n",
    "    \n",
    "    for b in range(d_bottom):\n",
    "        b = np.zeros((1, arr.shape[1],))\n",
    "        arr = np.append(arr, b, axis = 0)\n",
    "    \n",
    "    images_list_train[i] = arr.flatten()\n",
    "\n",
    "for i in range(len(images_list_test)):\n",
    "    s = images_list_test[i].shape\n",
    "    d_width = (max_width - s[1])\n",
    "    d_height = (max_height - s[0])\n",
    "    \n",
    "    d_top = int(d_height / 2)\n",
    "    d_bottom = int(d_height - d_top)\n",
    "    \n",
    "    d_left = int(d_width / 2)\n",
    "    d_right = int(d_width - d_left)\n",
    "    #print(d_top, d_bottom, d_left, d_right)\n",
    "    \n",
    "    arr = images_list_test[i]\n",
    "    for l in range(d_left):\n",
    "        arr = np.insert(arr, 0, 0, axis = 1)\n",
    "    \n",
    "    for r in range(d_right):\n",
    "        b = np.zeros((s[0],1))\n",
    "        arr = np.append(arr, b, axis = 1)\n",
    "    \n",
    "    for t in range(d_top):\n",
    "        arr = np.insert(arr, 0, 0, axis = 0)\n",
    "    \n",
    "    for b in range(d_bottom):\n",
    "        b = np.zeros((1, arr.shape[1],))\n",
    "        arr = np.append(arr, b, axis = 0)\n",
    "    \n",
    "    images_list_test[i] = arr.flatten()"
   ]
  },
  {
   "cell_type": "code",
   "execution_count": 22,
   "metadata": {},
   "outputs": [
    {
     "data": {
      "text/plain": [
       "32"
      ]
     },
     "execution_count": 22,
     "metadata": {},
     "output_type": "execute_result"
    }
   ],
   "source": [
    "32"
   ]
  },
  {
   "cell_type": "code",
   "execution_count": 23,
   "metadata": {},
   "outputs": [],
   "source": [
    "from tensorflow.python.client import device_lib\n",
    "import tensorflow as tf\n",
    "import keras\n",
    "#print(device_lib.list_local_devices())\n",
    "\n",
    "config = tf.ConfigProto( device_count = {'GPU': 1 , 'CPU': 8} ) \n",
    "sess = tf.Session(config=config) \n",
    "keras.backend.set_session(sess)"
   ]
  },
  {
   "cell_type": "code",
   "execution_count": 24,
   "metadata": {},
   "outputs": [],
   "source": [
    "images_np_train = np.array(images_list_train)\n",
    "images_np_test = np.array(images_list_test)"
   ]
  },
  {
   "cell_type": "code",
   "execution_count": 25,
   "metadata": {},
   "outputs": [],
   "source": [
    "class_count = 5\n",
    "X_train = images_np_train\n",
    "Y_train = Y_tr\n",
    "Y_train = keras.utils.to_categorical(Y_train, class_count)\n",
    "\n",
    "X_test = images_np_test\n",
    "Y_test = Y_ts\n",
    "Y_test = keras.utils.to_categorical(Y_test, class_count)"
   ]
  },
  {
   "cell_type": "code",
   "execution_count": 26,
   "metadata": {},
   "outputs": [],
   "source": [
    "X_train = X_train.reshape(X_train.shape[0], max_height, max_width, 1)\n",
    "X_test = X_test.reshape(X_test.shape[0], max_height, max_width, 1)\n",
    "input_shape = (max_height, max_width, 1)"
   ]
  },
  {
   "cell_type": "code",
   "execution_count": 27,
   "metadata": {},
   "outputs": [
    {
     "name": "stdout",
     "output_type": "stream",
     "text": [
      "x_train shape: (6826, 160, 50, 1)\n",
      "6826 train samples\n",
      "1953 test samples\n"
     ]
    }
   ],
   "source": [
    "print('x_train shape:', X_train.shape)\n",
    "print(X_train.shape[0], 'train samples')\n",
    "print(X_test.shape[0], 'test samples')"
   ]
  },
  {
   "cell_type": "code",
   "execution_count": 28,
   "metadata": {},
   "outputs": [
    {
     "name": "stdout",
     "output_type": "stream",
     "text": [
      "WARNING:tensorflow:From C:\\Users\\Ghevond\\Anaconda3\\lib\\site-packages\\keras\\backend\\tensorflow_backend.py:74: The name tf.get_default_graph is deprecated. Please use tf.compat.v1.get_default_graph instead.\n",
      "\n",
      "WARNING:tensorflow:From C:\\Users\\Ghevond\\Anaconda3\\lib\\site-packages\\keras\\backend\\tensorflow_backend.py:517: The name tf.placeholder is deprecated. Please use tf.compat.v1.placeholder instead.\n",
      "\n",
      "WARNING:tensorflow:From C:\\Users\\Ghevond\\Anaconda3\\lib\\site-packages\\keras\\backend\\tensorflow_backend.py:4138: The name tf.random_uniform is deprecated. Please use tf.random.uniform instead.\n",
      "\n",
      "WARNING:tensorflow:From C:\\Users\\Ghevond\\Anaconda3\\lib\\site-packages\\keras\\backend\\tensorflow_backend.py:3976: The name tf.nn.max_pool is deprecated. Please use tf.nn.max_pool2d instead.\n",
      "\n",
      "WARNING:tensorflow:From C:\\Users\\Ghevond\\Anaconda3\\lib\\site-packages\\keras\\backend\\tensorflow_backend.py:133: The name tf.placeholder_with_default is deprecated. Please use tf.compat.v1.placeholder_with_default instead.\n",
      "\n",
      "WARNING:tensorflow:From C:\\Users\\Ghevond\\Anaconda3\\lib\\site-packages\\keras\\backend\\tensorflow_backend.py:3445: calling dropout (from tensorflow.python.ops.nn_ops) with keep_prob is deprecated and will be removed in a future version.\n",
      "Instructions for updating:\n",
      "Please use `rate` instead of `keep_prob`. Rate should be set to `rate = 1 - keep_prob`.\n"
     ]
    }
   ],
   "source": [
    "#from keras.models import Sequential\n",
    "#from keras.layers import Dense, Conv2D, Dropout, Flatten, MaxPooling2D\n",
    "#\n",
    "#model = Sequential()\n",
    "#model.add(Conv2D(128, kernel_size=(3,3), input_shape=input_shape, padding=\"same\"))\n",
    "#model.add(MaxPooling2D(pool_size=(3, 1)))\n",
    "#\n",
    "#model.add(Conv2D(64, (3, 3), padding=\"same\"))\n",
    "#model.add(Activation('relu'))\n",
    "#model.add(MaxPooling2D(pool_size=(3, 1)))\n",
    "#\n",
    "#model.add(Conv2D(32, (3, 3), padding=\"same\"))\n",
    "#model.add(Activation('relu'))\n",
    "#model.add(MaxPooling2D(pool_size=(3, 4)))\n",
    "#\n",
    "#model.add(Flatten()) # Flattening the 2D arrays for fully connected layers\n",
    "#model.add(Dense(128, activation=tf.nn.relu))\n",
    "#model.add(Dropout(0.5))\n",
    "#model.add(Dense(class_count,activation=tf.nn.softmax))\n",
    "\n",
    "# kernel_regularizer=regularizers.l1_l2(l1=1e-5, l2=1e-4),\n",
    "\n",
    "from keras.models import Sequential\n",
    "from keras.layers import Dense, Conv2D, Dropout, Flatten, MaxPooling2D\n",
    "\n",
    "model = Sequential()\n",
    "model.add(Conv2D(128, kernel_size=(3,3), input_shape=input_shape, padding=\"same\"))\n",
    "model.add(MaxPooling2D(pool_size=(2, 2)))\n",
    "\n",
    "model.add(Conv2D(128, (3, 3), padding=\"same\"))\n",
    "model.add(Activation('relu'))\n",
    "model.add(MaxPooling2D(pool_size=(1, 2)))\n",
    "\n",
    "model.add(Conv2D(64, (3, 3), padding=\"same\"))\n",
    "model.add(Activation('relu'))\n",
    "model.add(MaxPooling2D(pool_size=(2, 1)))\n",
    "\n",
    "model.add(Conv2D(64, (3, 3), padding=\"same\"))\n",
    "model.add(Activation('relu'))\n",
    "model.add(MaxPooling2D(pool_size=(2, 2)))\n",
    "\n",
    "model.add(Conv2D(64, (3, 3), padding=\"same\"))\n",
    "model.add(Activation('relu'))\n",
    "model.add(MaxPooling2D(pool_size=(2, 1)))\n",
    "\n",
    "#model.add(Conv2D(32, (3, 3), padding=\"same\"))\n",
    "#model.add(Activation('relu'))\n",
    "#model.add(MaxPooling2D(pool_size=(2, 2)))\n",
    "\n",
    "model.add(Flatten()) # Flattening the 2D arrays for fully connected layers\n",
    "model.add(Dense(512, activation=tf.nn.relu))\n",
    "model.add(Dropout(0.5))\n",
    "model.add(Dense(class_count,activation=tf.nn.softmax))"
   ]
  },
  {
   "cell_type": "code",
   "execution_count": null,
   "metadata": {},
   "outputs": [],
   "source": []
  },
  {
   "cell_type": "code",
   "execution_count": 29,
   "metadata": {},
   "outputs": [
    {
     "name": "stdout",
     "output_type": "stream",
     "text": [
      "_________________________________________________________________\n",
      "Layer (type)                 Output Shape              Param #   \n",
      "=================================================================\n",
      "conv2d_1 (Conv2D)            (None, 160, 50, 128)      1280      \n",
      "_________________________________________________________________\n",
      "max_pooling2d_1 (MaxPooling2 (None, 80, 25, 128)       0         \n",
      "_________________________________________________________________\n",
      "conv2d_2 (Conv2D)            (None, 80, 25, 128)       147584    \n",
      "_________________________________________________________________\n",
      "activation_1 (Activation)    (None, 80, 25, 128)       0         \n",
      "_________________________________________________________________\n",
      "max_pooling2d_2 (MaxPooling2 (None, 80, 12, 128)       0         \n",
      "_________________________________________________________________\n",
      "conv2d_3 (Conv2D)            (None, 80, 12, 64)        73792     \n",
      "_________________________________________________________________\n",
      "activation_2 (Activation)    (None, 80, 12, 64)        0         \n",
      "_________________________________________________________________\n",
      "max_pooling2d_3 (MaxPooling2 (None, 40, 12, 64)        0         \n",
      "_________________________________________________________________\n",
      "conv2d_4 (Conv2D)            (None, 40, 12, 64)        36928     \n",
      "_________________________________________________________________\n",
      "activation_3 (Activation)    (None, 40, 12, 64)        0         \n",
      "_________________________________________________________________\n",
      "max_pooling2d_4 (MaxPooling2 (None, 20, 6, 64)         0         \n",
      "_________________________________________________________________\n",
      "conv2d_5 (Conv2D)            (None, 20, 6, 64)         36928     \n",
      "_________________________________________________________________\n",
      "activation_4 (Activation)    (None, 20, 6, 64)         0         \n",
      "_________________________________________________________________\n",
      "max_pooling2d_5 (MaxPooling2 (None, 10, 6, 64)         0         \n",
      "_________________________________________________________________\n",
      "flatten_1 (Flatten)          (None, 3840)              0         \n",
      "_________________________________________________________________\n",
      "dense_1 (Dense)              (None, 512)               1966592   \n",
      "_________________________________________________________________\n",
      "dropout_1 (Dropout)          (None, 512)               0         \n",
      "_________________________________________________________________\n",
      "dense_2 (Dense)              (None, 5)                 2565      \n",
      "=================================================================\n",
      "Total params: 2,265,669\n",
      "Trainable params: 2,265,669\n",
      "Non-trainable params: 0\n",
      "_________________________________________________________________\n"
     ]
    }
   ],
   "source": [
    "model.summary()"
   ]
  },
  {
   "cell_type": "code",
   "execution_count": 30,
   "metadata": {},
   "outputs": [
    {
     "name": "stdout",
     "output_type": "stream",
     "text": [
      "WARNING:tensorflow:From C:\\Users\\Ghevond\\Anaconda3\\lib\\site-packages\\keras\\optimizers.py:790: The name tf.train.Optimizer is deprecated. Please use tf.compat.v1.train.Optimizer instead.\n",
      "\n",
      "WARNING:tensorflow:From C:\\Users\\Ghevond\\Anaconda3\\lib\\site-packages\\keras\\backend\\tensorflow_backend.py:3295: The name tf.log is deprecated. Please use tf.math.log instead.\n",
      "\n"
     ]
    }
   ],
   "source": [
    "adadelta = optimizers.Adadelta(lr=0.01, rho=0.95)\n",
    "model.compile(optimizer=adadelta , loss='categorical_crossentropy', metrics=['accuracy'])"
   ]
  },
  {
   "cell_type": "code",
   "execution_count": 31,
   "metadata": {},
   "outputs": [
    {
     "name": "stdout",
     "output_type": "stream",
     "text": [
      "WARNING:tensorflow:From C:\\Users\\Ghevond\\Anaconda3\\lib\\site-packages\\tensorflow_core\\python\\ops\\math_grad.py:1424: where (from tensorflow.python.ops.array_ops) is deprecated and will be removed in a future version.\n",
      "Instructions for updating:\n",
      "Use tf.where in 2.0, which has the same broadcast rule as np.where\n",
      "WARNING:tensorflow:From C:\\Users\\Ghevond\\Anaconda3\\lib\\site-packages\\keras\\backend\\tensorflow_backend.py:986: The name tf.assign_add is deprecated. Please use tf.compat.v1.assign_add instead.\n",
      "\n",
      "WARNING:tensorflow:From C:\\Users\\Ghevond\\Anaconda3\\lib\\site-packages\\keras\\backend\\tensorflow_backend.py:973: The name tf.assign is deprecated. Please use tf.compat.v1.assign instead.\n",
      "\n",
      "Train on 6826 samples, validate on 1953 samples\n",
      "Epoch 1/35\n",
      "WARNING:tensorflow:From C:\\Users\\Ghevond\\Anaconda3\\lib\\site-packages\\keras\\backend\\tensorflow_backend.py:174: The name tf.get_default_session is deprecated. Please use tf.compat.v1.get_default_session instead.\n",
      "\n",
      "WARNING:tensorflow:From C:\\Users\\Ghevond\\Anaconda3\\lib\\site-packages\\keras\\backend\\tensorflow_backend.py:190: The name tf.global_variables is deprecated. Please use tf.compat.v1.global_variables instead.\n",
      "\n",
      "WARNING:tensorflow:From C:\\Users\\Ghevond\\Anaconda3\\lib\\site-packages\\keras\\backend\\tensorflow_backend.py:199: The name tf.is_variable_initialized is deprecated. Please use tf.compat.v1.is_variable_initialized instead.\n",
      "\n",
      "WARNING:tensorflow:From C:\\Users\\Ghevond\\Anaconda3\\lib\\site-packages\\keras\\backend\\tensorflow_backend.py:206: The name tf.variables_initializer is deprecated. Please use tf.compat.v1.variables_initializer instead.\n",
      "\n",
      "6826/6826 [==============================] - 37s 5ms/step - loss: 3.4481 - acc: 0.5841 - val_loss: 0.7567 - val_acc: 0.7373\n",
      "Epoch 2/35\n",
      "6826/6826 [==============================] - 31s 5ms/step - loss: 2.2444 - acc: 0.7641 - val_loss: 0.6500 - val_acc: 0.7793\n",
      "Epoch 3/35\n",
      "6826/6826 [==============================] - 31s 5ms/step - loss: 2.0079 - acc: 0.7890 - val_loss: 0.5997 - val_acc: 0.8059\n",
      "Epoch 4/35\n",
      "6826/6826 [==============================] - 31s 5ms/step - loss: 1.8339 - acc: 0.8063 - val_loss: 0.5424 - val_acc: 0.8100\n",
      "Epoch 5/35\n",
      "6826/6826 [==============================] - 31s 5ms/step - loss: 1.7136 - acc: 0.8198 - val_loss: 0.5102 - val_acc: 0.8172\n",
      "Epoch 6/35\n",
      "6826/6826 [==============================] - 31s 5ms/step - loss: 1.6462 - acc: 0.8312 - val_loss: 0.4774 - val_acc: 0.8361\n",
      "Epoch 7/35\n",
      "6826/6826 [==============================] - 31s 5ms/step - loss: 1.6163 - acc: 0.8327 - val_loss: 0.4671 - val_acc: 0.8423\n",
      "Epoch 8/35\n",
      "6826/6826 [==============================] - 31s 5ms/step - loss: 1.5554 - acc: 0.8369 - val_loss: 0.4667 - val_acc: 0.8367\n",
      "Epoch 9/35\n",
      "6826/6826 [==============================] - 31s 5ms/step - loss: 1.4964 - acc: 0.8462 - val_loss: 0.4293 - val_acc: 0.8500\n",
      "Epoch 10/35\n",
      "6826/6826 [==============================] - 31s 5ms/step - loss: 1.4446 - acc: 0.8466 - val_loss: 0.4203 - val_acc: 0.8520\n",
      "Epoch 11/35\n",
      "6826/6826 [==============================] - 31s 5ms/step - loss: 1.4202 - acc: 0.8526 - val_loss: 0.4059 - val_acc: 0.8587\n",
      "Epoch 12/35\n",
      "6826/6826 [==============================] - 31s 5ms/step - loss: 1.3560 - acc: 0.8572 - val_loss: 0.3918 - val_acc: 0.8710\n",
      "Epoch 13/35\n",
      "6826/6826 [==============================] - 31s 5ms/step - loss: 1.3357 - acc: 0.8599 - val_loss: 0.3963 - val_acc: 0.8618\n",
      "Epoch 14/35\n",
      "6826/6826 [==============================] - 31s 5ms/step - loss: 1.3152 - acc: 0.8657 - val_loss: 0.3837 - val_acc: 0.8797\n",
      "Epoch 15/35\n",
      "6826/6826 [==============================] - 31s 5ms/step - loss: 1.2691 - acc: 0.8689 - val_loss: 0.3936 - val_acc: 0.8618\n",
      "Epoch 16/35\n",
      "6826/6826 [==============================] - 31s 5ms/step - loss: 1.2737 - acc: 0.8651 - val_loss: 0.3737 - val_acc: 0.8735\n",
      "Epoch 17/35\n",
      "6826/6826 [==============================] - 31s 5ms/step - loss: 1.2478 - acc: 0.8708 - val_loss: 0.3704 - val_acc: 0.8725\n",
      "Epoch 18/35\n",
      "6826/6826 [==============================] - 31s 5ms/step - loss: 1.2259 - acc: 0.8753 - val_loss: 0.3698 - val_acc: 0.8725\n",
      "Epoch 19/35\n",
      "6826/6826 [==============================] - 31s 5ms/step - loss: 1.2094 - acc: 0.8699 - val_loss: 0.3606 - val_acc: 0.8766\n",
      "Epoch 20/35\n",
      "6826/6826 [==============================] - 31s 5ms/step - loss: 1.1906 - acc: 0.8740 - val_loss: 0.3540 - val_acc: 0.8771\n",
      "Epoch 21/35\n",
      "6826/6826 [==============================] - 31s 5ms/step - loss: 1.1608 - acc: 0.8800 - val_loss: 0.3621 - val_acc: 0.8720\n",
      "Epoch 22/35\n",
      "6826/6826 [==============================] - 31s 5ms/step - loss: 1.1582 - acc: 0.8743 - val_loss: 0.3530 - val_acc: 0.8827\n",
      "Epoch 23/35\n",
      "6826/6826 [==============================] - 31s 5ms/step - loss: 1.1427 - acc: 0.8756 - val_loss: 0.3520 - val_acc: 0.8746\n",
      "Epoch 24/35\n",
      "6826/6826 [==============================] - 31s 5ms/step - loss: 1.1336 - acc: 0.8799 - val_loss: 0.3515 - val_acc: 0.8812\n",
      "Epoch 25/35\n",
      "6826/6826 [==============================] - 31s 5ms/step - loss: 1.0993 - acc: 0.8816 - val_loss: 0.3517 - val_acc: 0.8838\n",
      "Epoch 26/35\n",
      "6826/6826 [==============================] - 31s 5ms/step - loss: 1.1062 - acc: 0.8813 - val_loss: 0.3432 - val_acc: 0.8889\n",
      "Epoch 27/35\n",
      "6826/6826 [==============================] - 31s 5ms/step - loss: 1.0824 - acc: 0.8832 - val_loss: 0.3647 - val_acc: 0.8725\n",
      "Epoch 28/35\n",
      "6826/6826 [==============================] - 31s 5ms/step - loss: 1.0890 - acc: 0.8856 - val_loss: 0.3353 - val_acc: 0.8920\n",
      "Epoch 29/35\n",
      "6826/6826 [==============================] - 31s 5ms/step - loss: 1.0590 - acc: 0.8909 - val_loss: 0.3643 - val_acc: 0.8720\n",
      "Epoch 30/35\n",
      "6826/6826 [==============================] - 31s 5ms/step - loss: 1.0658 - acc: 0.8873 - val_loss: 0.3419 - val_acc: 0.8771\n",
      "Epoch 31/35\n",
      "6826/6826 [==============================] - 31s 5ms/step - loss: 1.0292 - acc: 0.8903 - val_loss: 0.3353 - val_acc: 0.8781\n",
      "Epoch 32/35\n",
      "6826/6826 [==============================] - 31s 5ms/step - loss: 1.0481 - acc: 0.8872 - val_loss: 0.3280 - val_acc: 0.8802\n",
      "Epoch 33/35\n",
      "6826/6826 [==============================] - 31s 5ms/step - loss: 1.0199 - acc: 0.8890 - val_loss: 0.3256 - val_acc: 0.8889\n",
      "Epoch 34/35\n",
      "6826/6826 [==============================] - 31s 5ms/step - loss: 1.0280 - acc: 0.8885 - val_loss: 0.3431 - val_acc: 0.8858\n",
      "Epoch 35/35\n",
      "6826/6826 [==============================] - 31s 5ms/step - loss: 0.9992 - acc: 0.8904 - val_loss: 0.3252 - val_acc: 0.8940\n"
     ]
    }
   ],
   "source": [
    "#cw = {0:1, 1:1, 2:1, 3:1, 4:1}\n",
    "cw = {0:3, 1:4, 2:3, 3:4, 4:3}\n",
    "#1 stage 35\n",
    "#2 stage \n",
    "history = model.fit(X_train, Y_train, epochs = 35, batch_size = 8, shuffle=True, validation_data=(X_test, Y_test), class_weight=cw)"
   ]
  },
  {
   "cell_type": "code",
   "execution_count": 42,
   "metadata": {},
   "outputs": [
    {
     "data": {
      "image/png": "[encoded data removed]",
      "text/plain": [
       "<Figure size 1440x1080 with 1 Axes>"
      ]
     },
     "metadata": {
      "needs_background": "light"
     },
     "output_type": "display_data"
    }
   ],
   "source": [
    "plt.plot(history.history['acc'], label='Accuracy (train data)', linewidth=3, markersize=12)\n",
    "plt.plot(history.history['val_acc'], label='Accuracy (validation data)', linewidth=3, markersize=12)\n",
    "plt.plot(history.history['loss'], label='loss (train data)', linewidth=3, markersize=12)\n",
    "plt.plot(history.history['val_loss'], label='loss (validation data)', linewidth=3, markersize=12)\n",
    "plt.title('Loss and Accuracy')\n",
    "plt.ylabel('value')\n",
    "plt.xlabel('No. epoch')\n",
    "plt.legend(loc=\"upper left\")\n",
    "plt.rcParams[\"figure.figsize\"] = (20,15)\n",
    "plt.show()"
   ]
  },
  {
   "cell_type": "code",
   "execution_count": 43,
   "metadata": {},
   "outputs": [],
   "source": [
    "prediction = model.predict(X_test)"
   ]
  },
  {
   "cell_type": "code",
   "execution_count": 44,
   "metadata": {},
   "outputs": [],
   "source": [
    "for i in range(len(prediction)):\n",
    "    prediction[i] = prediction[i] > 0.90"
   ]
  },
  {
   "cell_type": "code",
   "execution_count": 47,
   "metadata": {},
   "outputs": [
    {
     "name": "stdout",
     "output_type": "stream",
     "text": [
      "Saved model to disk\n"
     ]
    }
   ],
   "source": [
    "model_json = model.to_json()\n",
    "with open(\"model_the_last_one.json\", \"w\") as json_file:\n",
    "    json_file.write(model_json)\n",
    "# serialize weights to HDF5\n",
    "model.save_weights(\"model_the_last_one.h5\")\n",
    "print(\"Saved model to disk\")"
   ]
  },
  {
   "cell_type": "code",
   "execution_count": null,
   "metadata": {},
   "outputs": [],
   "source": []
  }
 ],
 "metadata": {
  "kernelspec": {
   "display_name": "Python 3",
   "language": "python",
   "name": "python3"
  },
  "language_info": {
   "codemirror_mode": {
    "name": "ipython",
    "version": 3
   },
   "file_extension": ".py",
   "mimetype": "text/x-python",
   "name": "python",
   "nbconvert_exporter": "python",
   "pygments_lexer": "ipython3",
   "version": "3.7.4"
  }
 },
 "nbformat": 4,
 "nbformat_minor": 2
}
