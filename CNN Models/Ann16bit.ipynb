{
 "cells": [
  {
   "cell_type": "code",
   "execution_count": 1,
   "metadata": {},
   "outputs": [
    {
     "name": "stderr",
     "output_type": "stream",
     "text": [
      "Using TensorFlow backend.\n"
     ]
    }
   ],
   "source": [
    "import numpy as np\n",
    "import pandas as pd\n",
    "import seaborn as sns\n",
    "from sklearn.linear_model import LinearRegression\n",
    "import matplotlib.pyplot as plt\n",
    "from sklearn.model_selection import train_test_split\n",
    "from sklearn.feature_selection import RFE\n",
    "from sklearn.metrics import mean_squared_error, r2_score\n",
    "import os, fnmatch\n",
    "from sklearn.cluster import KMeans\n",
    "from sklearn.preprocessing import PolynomialFeatures \n",
    "import seaborn as sns\n",
    "%matplotlib inline\n",
    "from keras.layers import Input, Dense\n",
    "from keras.models import Model\n",
    "# from keras.op\n",
    "from keras import optimizers\n",
    "from keras import regularizers\n",
    "from PIL import Image\n",
    "from sklearn import preprocessing\n",
    "from sklearn.model_selection import train_test_split\n",
    "\n",
    "import keras\n",
    "from keras.models import load_model\n",
    "from keras.datasets import cifar10\n",
    "from keras.layers import Input, Dense, Conv2D, MaxPooling2D, UpSampling2D, BatchNormalization, Activation\n",
    "from keras.models import Model\n",
    "from keras.callbacks import EarlyStopping, ModelCheckpoint\n",
    "from keras.optimizers import Adam\n",
    "import os\n",
    "import pickle\n",
    "import numpy as np\n",
    "from keras.preprocessing.image import ImageDataGenerator, array_to_img, img_to_array"
   ]
  },
  {
   "cell_type": "code",
   "execution_count": 2,
   "metadata": {},
   "outputs": [],
   "source": [
    "class_path = \"C:/Users/Ghevond/Desktop/Astro/DataCreation/Dataset/Train/\"\n",
    "data_train = []\n",
    "data_train_names = os.listdir(class_path)\n",
    "pattern = \"*.tiff\"\n",
    "for entry in data_train_names:\n",
    "    if fnmatch.fnmatch(entry, pattern):\n",
    "            data_train.append(class_path+entry)"
   ]
  },
  {
   "cell_type": "code",
   "execution_count": 3,
   "metadata": {},
   "outputs": [],
   "source": [
    "class_path = \"C:/Users/Ghevond/Desktop/Astro/DataCreation/Dataset/Test/\"\n",
    "data_test = []\n",
    "data_test_names = os.listdir(class_path)\n",
    "pattern = \"*.tiff\"\n",
    "for entry in data_test_names:\n",
    "    if fnmatch.fnmatch(entry, pattern):\n",
    "            data_test.append(class_path+entry)"
   ]
  },
  {
   "cell_type": "code",
   "execution_count": 4,
   "metadata": {},
   "outputs": [
    {
     "name": "stdout",
     "output_type": "stream",
     "text": [
      "1876 1876\n",
      "536 536\n"
     ]
    }
   ],
   "source": [
    "print(len(data_train_names), len(data_train))\n",
    "print(len(data_test_names), len(data_test))"
   ]
  },
  {
   "cell_type": "code",
   "execution_count": 5,
   "metadata": {},
   "outputs": [],
   "source": [
    "data_train_list = []\n",
    "for i in range(len(data_train)):\n",
    "    arr_obj = []\n",
    "    cl = (data_train[i].split(\"/\")[8]).split(\"~~~\")[0]\n",
    "    if cl == \"Sy1\" or cl == \"cv\" or cl == \"QSO\" or cl == \"WD\": continue\n",
    "    #if cl == \"C\" or cl == \"M\" or cl == \"Mrk\" or cl == \"PN\" or cl == \"sd\": continue\n",
    "    arr_obj.append(cl)\n",
    "    arr_obj.append(data_train[i])\n",
    "    data_train_list.append(arr_obj)\n",
    "    \n",
    "data_test_list = []\n",
    "for i in range(len(data_test)):\n",
    "    arr_obj = []\n",
    "    cl = (data_test[i].split(\"/\")[8]).split(\"~~~\")[0]\n",
    "    if cl == \"Sy1\" or cl == \"cv\" or cl == \"QSO\" or cl == \"WD\": continue\n",
    "    #if cl == \"C\" or cl == \"M\" or cl == \"Mrk\" or cl == \"PN\" or cl == \"sd\": continue\n",
    "    arr_obj.append(cl)\n",
    "    arr_obj.append(data_test[i])\n",
    "    data_test_list.append(arr_obj)"
   ]
  },
  {
   "cell_type": "code",
   "execution_count": 6,
   "metadata": {},
   "outputs": [
    {
     "name": "stdout",
     "output_type": "stream",
     "text": [
      "1351 385\n"
     ]
    }
   ],
   "source": [
    "print(len(data_train_list), len(data_test_list))"
   ]
  },
  {
   "cell_type": "code",
   "execution_count": 7,
   "metadata": {},
   "outputs": [],
   "source": [
    "df_train = pd.DataFrame(data_train_list)\n",
    "df_test = pd.DataFrame(data_test_list)"
   ]
  },
  {
   "cell_type": "code",
   "execution_count": 8,
   "metadata": {},
   "outputs": [
    {
     "data": {
      "text/html": [
       "<div>\n",
       "<style scoped>\n",
       "    .dataframe tbody tr th:only-of-type {\n",
       "        vertical-align: middle;\n",
       "    }\n",
       "\n",
       "    .dataframe tbody tr th {\n",
       "        vertical-align: top;\n",
       "    }\n",
       "\n",
       "    .dataframe thead th {\n",
       "        text-align: right;\n",
       "    }\n",
       "</style>\n",
       "<table border=\"1\" class=\"dataframe\">\n",
       "  <thead>\n",
       "    <tr style=\"text-align: right;\">\n",
       "      <th></th>\n",
       "      <th>0</th>\n",
       "      <th>1</th>\n",
       "    </tr>\n",
       "  </thead>\n",
       "  <tbody>\n",
       "    <tr>\n",
       "      <td>0</td>\n",
       "      <td>C</td>\n",
       "      <td>C:/Users/Ghevond/Desktop/Astro/DataCreation/Da...</td>\n",
       "    </tr>\n",
       "    <tr>\n",
       "      <td>1</td>\n",
       "      <td>C</td>\n",
       "      <td>C:/Users/Ghevond/Desktop/Astro/DataCreation/Da...</td>\n",
       "    </tr>\n",
       "    <tr>\n",
       "      <td>2</td>\n",
       "      <td>C</td>\n",
       "      <td>C:/Users/Ghevond/Desktop/Astro/DataCreation/Da...</td>\n",
       "    </tr>\n",
       "    <tr>\n",
       "      <td>3</td>\n",
       "      <td>C</td>\n",
       "      <td>C:/Users/Ghevond/Desktop/Astro/DataCreation/Da...</td>\n",
       "    </tr>\n",
       "    <tr>\n",
       "      <td>4</td>\n",
       "      <td>C</td>\n",
       "      <td>C:/Users/Ghevond/Desktop/Astro/DataCreation/Da...</td>\n",
       "    </tr>\n",
       "  </tbody>\n",
       "</table>\n",
       "</div>"
      ],
      "text/plain": [
       "   0                                                  1\n",
       "0  C  C:/Users/Ghevond/Desktop/Astro/DataCreation/Da...\n",
       "1  C  C:/Users/Ghevond/Desktop/Astro/DataCreation/Da...\n",
       "2  C  C:/Users/Ghevond/Desktop/Astro/DataCreation/Da...\n",
       "3  C  C:/Users/Ghevond/Desktop/Astro/DataCreation/Da...\n",
       "4  C  C:/Users/Ghevond/Desktop/Astro/DataCreation/Da..."
      ]
     },
     "execution_count": 8,
     "metadata": {},
     "output_type": "execute_result"
    }
   ],
   "source": [
    "df_train.head()"
   ]
  },
  {
   "cell_type": "code",
   "execution_count": 9,
   "metadata": {},
   "outputs": [
    {
     "data": {
      "text/html": [
       "<div>\n",
       "<style scoped>\n",
       "    .dataframe tbody tr th:only-of-type {\n",
       "        vertical-align: middle;\n",
       "    }\n",
       "\n",
       "    .dataframe tbody tr th {\n",
       "        vertical-align: top;\n",
       "    }\n",
       "\n",
       "    .dataframe thead th {\n",
       "        text-align: right;\n",
       "    }\n",
       "</style>\n",
       "<table border=\"1\" class=\"dataframe\">\n",
       "  <thead>\n",
       "    <tr style=\"text-align: right;\">\n",
       "      <th></th>\n",
       "      <th>0</th>\n",
       "      <th>1</th>\n",
       "    </tr>\n",
       "  </thead>\n",
       "  <tbody>\n",
       "    <tr>\n",
       "      <td>0</td>\n",
       "      <td>C</td>\n",
       "      <td>C:/Users/Ghevond/Desktop/Astro/DataCreation/Da...</td>\n",
       "    </tr>\n",
       "    <tr>\n",
       "      <td>1</td>\n",
       "      <td>C</td>\n",
       "      <td>C:/Users/Ghevond/Desktop/Astro/DataCreation/Da...</td>\n",
       "    </tr>\n",
       "    <tr>\n",
       "      <td>2</td>\n",
       "      <td>C</td>\n",
       "      <td>C:/Users/Ghevond/Desktop/Astro/DataCreation/Da...</td>\n",
       "    </tr>\n",
       "    <tr>\n",
       "      <td>3</td>\n",
       "      <td>C</td>\n",
       "      <td>C:/Users/Ghevond/Desktop/Astro/DataCreation/Da...</td>\n",
       "    </tr>\n",
       "    <tr>\n",
       "      <td>4</td>\n",
       "      <td>C</td>\n",
       "      <td>C:/Users/Ghevond/Desktop/Astro/DataCreation/Da...</td>\n",
       "    </tr>\n",
       "  </tbody>\n",
       "</table>\n",
       "</div>"
      ],
      "text/plain": [
       "   0                                                  1\n",
       "0  C  C:/Users/Ghevond/Desktop/Astro/DataCreation/Da...\n",
       "1  C  C:/Users/Ghevond/Desktop/Astro/DataCreation/Da...\n",
       "2  C  C:/Users/Ghevond/Desktop/Astro/DataCreation/Da...\n",
       "3  C  C:/Users/Ghevond/Desktop/Astro/DataCreation/Da...\n",
       "4  C  C:/Users/Ghevond/Desktop/Astro/DataCreation/Da..."
      ]
     },
     "execution_count": 9,
     "metadata": {},
     "output_type": "execute_result"
    }
   ],
   "source": [
    "df_test.head()"
   ]
  },
  {
   "cell_type": "code",
   "execution_count": 10,
   "metadata": {},
   "outputs": [
    {
     "data": {
      "text/plain": [
       "sd     550\n",
       "C      331\n",
       "Mrk    305\n",
       "M      154\n",
       "PN      11\n",
       "Name: 0, dtype: int64"
      ]
     },
     "execution_count": 10,
     "metadata": {},
     "output_type": "execute_result"
    }
   ],
   "source": [
    "df_train[0].value_counts()"
   ]
  },
  {
   "cell_type": "code",
   "execution_count": 11,
   "metadata": {},
   "outputs": [
    {
     "data": {
      "text/plain": [
       "sd     157\n",
       "C       94\n",
       "Mrk     86\n",
       "M       44\n",
       "PN       4\n",
       "Name: 0, dtype: int64"
      ]
     },
     "execution_count": 11,
     "metadata": {},
     "output_type": "execute_result"
    }
   ],
   "source": [
    "df_test[0].value_counts()"
   ]
  },
  {
   "cell_type": "code",
   "execution_count": 12,
   "metadata": {},
   "outputs": [],
   "source": [
    "from sklearn import preprocessing\n",
    "le = preprocessing.LabelEncoder()\n",
    "le.fit(df_train[0])\n",
    "df_train[0]=le.transform(df_train[0])"
   ]
  },
  {
   "cell_type": "code",
   "execution_count": 13,
   "metadata": {},
   "outputs": [
    {
     "data": {
      "text/plain": [
       "0    256\n",
       "1    133\n",
       "2    110\n",
       "3     26\n",
       "Name: 0, dtype: int64"
      ]
     },
     "execution_count": 13,
     "metadata": {},
     "output_type": "execute_result"
    }
   ],
   "source": [
    "df_train[0].value_counts()"
   ]
  },
  {
   "cell_type": "code",
   "execution_count": 14,
   "metadata": {},
   "outputs": [],
   "source": [
    "for index, Row in df_test.iterrows():\n",
    "    cl = Row[0]\n",
    "    if cl == 'QSO':\n",
    "        df_test.at[index, 0] = 0\n",
    "    elif cl == \"Sy1\":\n",
    "        df_test.at[index, 0] = 1\n",
    "    elif cl == \"WD\":\n",
    "        df_test.at[index, 0] = 2\n",
    "    elif cl == \"cv\":\n",
    "        df_test.at[index, 0] = 3\n",
    "#    elif cl == \"WD\":\n",
    " #       df_test.at[index, 0] = 4\n",
    " #   elif cl == \"PN\":\n",
    "  #      df_test.at[index, 0] = 3\n",
    "    #elif cl == \"WD\":\n",
    "    #    df_test.at[index, 0] = 6\n",
    "    #elif cl == \"cv\":\n",
    "    #    df_test.at[index, 0] = 7\n",
    "    #elif cl == \"PN\":\n",
    "    #    df_test.at[index, 0] = 3"
   ]
  },
  {
   "cell_type": "code",
   "execution_count": 15,
   "metadata": {},
   "outputs": [
    {
     "data": {
      "text/plain": [
       "0    73\n",
       "1    38\n",
       "2    32\n",
       "3     8\n",
       "Name: 0, dtype: int64"
      ]
     },
     "execution_count": 15,
     "metadata": {},
     "output_type": "execute_result"
    }
   ],
   "source": [
    "df_test[0].value_counts()"
   ]
  },
  {
   "cell_type": "code",
   "execution_count": 16,
   "metadata": {},
   "outputs": [],
   "source": [
    "X_tr = df_train.iloc[:, 1]\n",
    "Y_tr = df_train.iloc[:, 0]\n",
    "X_tr = X_tr.values\n",
    "Y_tr = Y_tr.values\n",
    "\n",
    "X_ts = df_test.iloc[:, 1]\n",
    "Y_ts = df_test.iloc[:, 0]\n",
    "X_ts = X_ts.values\n",
    "Y_ts = Y_ts.values"
   ]
  },
  {
   "cell_type": "code",
   "execution_count": 17,
   "metadata": {},
   "outputs": [],
   "source": [
    "images_list_train = []\n",
    "max_width = 0\n",
    "max_height = 0\n",
    "ind = 0\n",
    "for i in range(len(X_tr)):\n",
    "    im = Image.open(X_tr[i])\n",
    "    arr = np.array(im)#.flatten()\n",
    "    \n",
    "    arr=(arr-arr.min())/(arr.max()-arr.min())\n",
    "    #arr = arr / 0xffff\n",
    "    s = arr.shape\n",
    "    if s[0] > max_height:\n",
    "        max_height = s[0]\n",
    "    if s[1] > max_width:\n",
    "        max_width = s[1]\n",
    "        ind = i\n",
    "    images_list_train.append(arr)\n",
    "    \n",
    "images_list_test = []\n",
    "ind = 0\n",
    "for i in range(len(X_ts)):\n",
    "    im = Image.open(X_ts[i])\n",
    "    arr = np.array(im)#.flatten()\n",
    "    \n",
    "    arr=(arr-arr.min())/(arr.max()-arr.min())\n",
    "    #arr = arr / 0xffff\n",
    "    s = arr.shape\n",
    "    if s[0] > max_height:\n",
    "        max_height = s[0]\n",
    "    if s[1] > max_width:\n",
    "        max_width = s[1]\n",
    "        ind = i\n",
    "    images_list_test.append(arr)"
   ]
  },
  {
   "cell_type": "code",
   "execution_count": 20,
   "metadata": {},
   "outputs": [
    {
     "name": "stdout",
     "output_type": "stream",
     "text": [
      "50 160\n"
     ]
    }
   ],
   "source": [
    "print(max_width, max_height)"
   ]
  },
  {
   "cell_type": "code",
   "execution_count": 21,
   "metadata": {},
   "outputs": [],
   "source": [
    "max_width = 50\n",
    "max_height = 160"
   ]
  },
  {
   "cell_type": "code",
   "execution_count": 22,
   "metadata": {},
   "outputs": [],
   "source": [
    "for i in range(len(images_list_train)):\n",
    "    s = images_list_train[i].shape\n",
    "    d_width = (max_width - s[1])\n",
    "    d_height = (max_height - s[0])\n",
    "    \n",
    "    d_top = int(d_height / 2)\n",
    "    d_bottom = int(d_height - d_top)\n",
    "    \n",
    "    d_left = int(d_width / 2)\n",
    "    d_right = int(d_width - d_left)\n",
    "    #print(d_top, d_bottom, d_left, d_right)\n",
    "    \n",
    "    arr = images_list_train[i]\n",
    "    for l in range(d_left):\n",
    "        arr = np.insert(arr, 0, 0, axis = 1)\n",
    "    \n",
    "    for r in range(d_right):\n",
    "        b = np.zeros((s[0],1))\n",
    "        arr = np.append(arr, b, axis = 1)\n",
    "    \n",
    "    for t in range(d_top):\n",
    "        arr = np.insert(arr, 0, 0, axis = 0)\n",
    "    \n",
    "    for b in range(d_bottom):\n",
    "        b = np.zeros((1, arr.shape[1],))\n",
    "        arr = np.append(arr, b, axis = 0)\n",
    "    \n",
    "    images_list_train[i] = arr.flatten()\n",
    "\n",
    "for i in range(len(images_list_test)):\n",
    "    s = images_list_test[i].shape\n",
    "    d_width = (max_width - s[1])\n",
    "    d_height = (max_height - s[0])\n",
    "    \n",
    "    d_top = int(d_height / 2)\n",
    "    d_bottom = int(d_height - d_top)\n",
    "    \n",
    "    d_left = int(d_width / 2)\n",
    "    d_right = int(d_width - d_left)\n",
    "    #print(d_top, d_bottom, d_left, d_right)\n",
    "    \n",
    "    arr = images_list_test[i]\n",
    "    for l in range(d_left):\n",
    "        arr = np.insert(arr, 0, 0, axis = 1)\n",
    "    \n",
    "    for r in range(d_right):\n",
    "        b = np.zeros((s[0],1))\n",
    "        arr = np.append(arr, b, axis = 1)\n",
    "    \n",
    "    for t in range(d_top):\n",
    "        arr = np.insert(arr, 0, 0, axis = 0)\n",
    "    \n",
    "    for b in range(d_bottom):\n",
    "        b = np.zeros((1, arr.shape[1],))\n",
    "        arr = np.append(arr, b, axis = 0)\n",
    "    \n",
    "    images_list_test[i] = arr.flatten()"
   ]
  },
  {
   "cell_type": "code",
   "execution_count": 23,
   "metadata": {},
   "outputs": [],
   "source": [
    "from tensorflow.python.client import device_lib\n",
    "import tensorflow as tf\n",
    "import keras\n",
    "#print(device_lib.list_local_devices())\n",
    "\n",
    "config = tf.ConfigProto( device_count = {'GPU': 0 , 'CPU': 8} ) \n",
    "sess = tf.Session(config=config) \n",
    "keras.backend.set_session(sess)"
   ]
  },
  {
   "cell_type": "code",
   "execution_count": 24,
   "metadata": {},
   "outputs": [
    {
     "name": "stdout",
     "output_type": "stream",
     "text": [
      "50 160\n"
     ]
    },
    {
     "data": {
      "text/plain": [
       "<matplotlib.image.AxesImage at 0x2636238c408>"
      ]
     },
     "execution_count": 24,
     "metadata": {},
     "output_type": "execute_result"
    },
    {
     "data": {
      "image/png": "[encoded data removed]",
      "text/plain": [
       "<Figure size 432x288 with 1 Axes>"
      ]
     },
     "metadata": {
      "needs_background": "light"
     },
     "output_type": "display_data"
    }
   ],
   "source": [
    "width = max_width\n",
    "height = max_height\n",
    "print(width, height)\n",
    "plt.imshow(images_list_train[25].reshape(160, 50))"
   ]
  },
  {
   "cell_type": "code",
   "execution_count": 25,
   "metadata": {},
   "outputs": [],
   "source": [
    "images_np_train = np.array(images_list_train)\n",
    "images_np_test = np.array(images_list_test)"
   ]
  },
  {
   "cell_type": "code",
   "execution_count": 26,
   "metadata": {},
   "outputs": [],
   "source": [
    "class_count = 4\n",
    "X_train = images_np_train\n",
    "Y_train = Y_tr\n",
    "Y_train = keras.utils.to_categorical(Y_train, class_count)\n",
    "\n",
    "X_test = images_np_test\n",
    "Y_test = Y_ts\n",
    "Y_test = keras.utils.to_categorical(Y_test, class_count)"
   ]
  },
  {
   "cell_type": "code",
   "execution_count": 27,
   "metadata": {},
   "outputs": [],
   "source": [
    "X_train = X_train.reshape(X_train.shape[0], max_height, max_width, 1)\n",
    "X_test = X_test.reshape(X_test.shape[0], max_height, max_width, 1)\n",
    "input_shape = (max_height, max_width, 1)"
   ]
  },
  {
   "cell_type": "code",
   "execution_count": 28,
   "metadata": {},
   "outputs": [
    {
     "name": "stdout",
     "output_type": "stream",
     "text": [
      "x_train shape: (525, 160, 50, 1)\n",
      "525 train samples\n",
      "151 test samples\n"
     ]
    }
   ],
   "source": [
    "print('x_train shape:', X_train.shape)\n",
    "print(X_train.shape[0], 'train samples')\n",
    "print(X_test.shape[0], 'test samples')"
   ]
  },
  {
   "cell_type": "code",
   "execution_count": 42,
   "metadata": {},
   "outputs": [],
   "source": [
    "from keras.models import Sequential\n",
    "from keras.layers import Dense, Conv2D, Dropout, Flatten, MaxPooling2D\n",
    "\n",
    "model = Sequential()\n",
    "model.add(Conv2D(128, kernel_size=(3,3), input_shape=input_shape, padding=\"same\"))\n",
    "model.add(MaxPooling2D(pool_size=(1, 1)))\n",
    "\n",
    "model.add(Conv2D(128, (3, 3), padding=\"same\"))\n",
    "model.add(Activation('relu'))\n",
    "model.add(MaxPooling2D(pool_size=(1, 2)))\n",
    "\n",
    "model.add(Conv2D(64, (3, 3), padding=\"same\"))\n",
    "model.add(Activation('relu'))\n",
    "model.add(MaxPooling2D(pool_size=(2, 1)))\n",
    "\n",
    "model.add(Conv2D(64, (3, 3), padding=\"same\"))\n",
    "model.add(Activation('relu'))\n",
    "model.add(MaxPooling2D(pool_size=(2, 2)))\n",
    "\n",
    "model.add(Conv2D(32, (3, 3), padding=\"same\"))\n",
    "model.add(Activation('relu'))\n",
    "model.add(MaxPooling2D(pool_size=(2, 1)))\n",
    "\n",
    "model.add(Flatten()) # Flattening the 2D arrays for fully connected layers\n",
    "model.add(Dense(256, activation=tf.nn.relu))\n",
    "model.add(Dropout(0.1))\n",
    "model.add(Dense(class_count,activation=tf.nn.softmax))"
   ]
  },
  {
   "cell_type": "code",
   "execution_count": 43,
   "metadata": {},
   "outputs": [
    {
     "name": "stdout",
     "output_type": "stream",
     "text": [
      "_________________________________________________________________\n",
      "Layer (type)                 Output Shape              Param #   \n",
      "=================================================================\n",
      "conv2d_11 (Conv2D)           (None, 160, 50, 128)      1280      \n",
      "_________________________________________________________________\n",
      "max_pooling2d_11 (MaxPooling (None, 160, 50, 128)      0         \n",
      "_________________________________________________________________\n",
      "conv2d_12 (Conv2D)           (None, 160, 50, 128)      147584    \n",
      "_________________________________________________________________\n",
      "activation_9 (Activation)    (None, 160, 50, 128)      0         \n",
      "_________________________________________________________________\n",
      "max_pooling2d_12 (MaxPooling (None, 160, 25, 128)      0         \n",
      "_________________________________________________________________\n",
      "conv2d_13 (Conv2D)           (None, 160, 25, 64)       73792     \n",
      "_________________________________________________________________\n",
      "activation_10 (Activation)   (None, 160, 25, 64)       0         \n",
      "_________________________________________________________________\n",
      "max_pooling2d_13 (MaxPooling (None, 80, 25, 64)        0         \n",
      "_________________________________________________________________\n",
      "conv2d_14 (Conv2D)           (None, 80, 25, 64)        36928     \n",
      "_________________________________________________________________\n",
      "activation_11 (Activation)   (None, 80, 25, 64)        0         \n",
      "_________________________________________________________________\n",
      "max_pooling2d_14 (MaxPooling (None, 40, 12, 64)        0         \n",
      "_________________________________________________________________\n",
      "conv2d_15 (Conv2D)           (None, 40, 12, 32)        18464     \n",
      "_________________________________________________________________\n",
      "activation_12 (Activation)   (None, 40, 12, 32)        0         \n",
      "_________________________________________________________________\n",
      "max_pooling2d_15 (MaxPooling (None, 20, 12, 32)        0         \n",
      "_________________________________________________________________\n",
      "flatten_3 (Flatten)          (None, 7680)              0         \n",
      "_________________________________________________________________\n",
      "dense_5 (Dense)              (None, 256)               1966336   \n",
      "_________________________________________________________________\n",
      "dropout_3 (Dropout)          (None, 256)               0         \n",
      "_________________________________________________________________\n",
      "dense_6 (Dense)              (None, 4)                 1028      \n",
      "=================================================================\n",
      "Total params: 2,245,412\n",
      "Trainable params: 2,245,412\n",
      "Non-trainable params: 0\n",
      "_________________________________________________________________\n"
     ]
    }
   ],
   "source": [
    "model.summary()"
   ]
  },
  {
   "cell_type": "code",
   "execution_count": 45,
   "metadata": {},
   "outputs": [],
   "source": [
    "adadelta = optimizers.Adadelta(lr=0.1, rho=0.95)\n",
    "model.compile(optimizer=adadelta , loss='categorical_crossentropy', metrics=['accuracy'])"
   ]
  },
  {
   "cell_type": "code",
   "execution_count": null,
   "metadata": {},
   "outputs": [
    {
     "name": "stdout",
     "output_type": "stream",
     "text": [
      "Train on 525 samples, validate on 151 samples\n",
      "Epoch 1/5\n",
      "525/525 [==============================] - 40s 76ms/step - loss: 0.9879 - acc: 0.6076 - val_loss: 0.9026 - val_acc: 0.5629\n",
      "Epoch 2/5\n",
      "525/525 [==============================] - 40s 77ms/step - loss: 0.9612 - acc: 0.5810 - val_loss: 0.9017 - val_acc: 0.5563\n",
      "Epoch 3/5\n",
      "480/525 [==========================>...] - ETA: 3s - loss: 0.9305 - acc: 0.5813"
     ]
    }
   ],
   "source": [
    "#cw = {0:3, 1:4, 2:3, 3:4, 4:3}\n",
    "cw = {0:1, 1:1, 2:1, 3:2}\n",
    "#1 stage 35\n",
    "#2 stage \n",
    "history = model.fit(X_train, Y_train, epochs = 5, batch_size = 8, shuffle=True, validation_data=(X_test, Y_test), class_weight=cw)"
   ]
  },
  {
   "cell_type": "code",
   "execution_count": 39,
   "metadata": {},
   "outputs": [
    {
     "data": {
      "image/png": "[encoded data removed]",
      "text/plain": [
       "<Figure size 432x288 with 1 Axes>"
      ]
     },
     "metadata": {
      "needs_background": "light"
     },
     "output_type": "display_data"
    }
   ],
   "source": [
    "plt.plot(history.history['acc'], label='MSE (train data)')\n",
    "plt.plot(history.history['val_acc'], label='MSE (val data)')\n",
    "plt.title('CNN Acc')\n",
    "plt.ylabel('MSE value')\n",
    "plt.xlabel('No. epoch')\n",
    "plt.legend(loc=\"upper left\")\n",
    "plt.show()"
   ]
  },
  {
   "cell_type": "code",
   "execution_count": 35,
   "metadata": {},
   "outputs": [],
   "source": [
    "prediction = model.predict(X_test)"
   ]
  },
  {
   "cell_type": "code",
   "execution_count": 36,
   "metadata": {},
   "outputs": [],
   "source": [
    "for i in range(len(prediction)):\n",
    "    prediction[i] = prediction[i] > 0.5"
   ]
  },
  {
   "cell_type": "code",
   "execution_count": 37,
   "metadata": {},
   "outputs": [
    {
     "name": "stdout",
     "output_type": "stream",
     "text": [
      "Accuracy: 0.3841059602649007\n",
      "F1 score: 0.4630373400007884\n",
      "Recall: 0.3841059602649007\n",
      "Precision: 0.5851752773881114\n",
      "\n",
      " clasification report:\n",
      "               precision    recall  f1-score   support\n",
      "\n",
      "           0       0.62      0.38      0.47        73\n",
      "           1       0.45      0.34      0.39        38\n",
      "           2       0.81      0.53      0.64        32\n",
      "           3       0.00      0.00      0.00         8\n",
      "\n",
      "   micro avg       0.61      0.38      0.47       151\n",
      "   macro avg       0.47      0.31      0.38       151\n",
      "weighted avg       0.59      0.38      0.46       151\n",
      " samples avg       0.38      0.38      0.38       151\n",
      "\n"
     ]
    },
    {
     "name": "stderr",
     "output_type": "stream",
     "text": [
      "C:\\Users\\Ghevond\\Anaconda3\\lib\\site-packages\\sklearn\\metrics\\classification.py:1437: UndefinedMetricWarning: F-score is ill-defined and being set to 0.0 in labels with no predicted samples.\n",
      "  'precision', 'predicted', average, warn_for)\n",
      "C:\\Users\\Ghevond\\Anaconda3\\lib\\site-packages\\sklearn\\metrics\\classification.py:1437: UndefinedMetricWarning: Precision is ill-defined and being set to 0.0 in labels with no predicted samples.\n",
      "  'precision', 'predicted', average, warn_for)\n",
      "C:\\Users\\Ghevond\\Anaconda3\\lib\\site-packages\\sklearn\\metrics\\classification.py:1437: UndefinedMetricWarning: Precision and F-score are ill-defined and being set to 0.0 in labels with no predicted samples.\n",
      "  'precision', 'predicted', average, warn_for)\n",
      "C:\\Users\\Ghevond\\Anaconda3\\lib\\site-packages\\sklearn\\metrics\\classification.py:1437: UndefinedMetricWarning: Precision and F-score are ill-defined and being set to 0.0 in samples with no predicted labels.\n",
      "  'precision', 'predicted', average, warn_for)\n"
     ]
    },
    {
     "ename": "ValueError",
     "evalue": "multilabel-indicator is not supported",
     "output_type": "error",
     "traceback": [
      "\u001b[1;31m---------------------------------------------------------------------------\u001b[0m",
      "\u001b[1;31mValueError\u001b[0m                                Traceback (most recent call last)",
      "\u001b[1;32m<ipython-input-37-055261370807>\u001b[0m in \u001b[0;36m<module>\u001b[1;34m\u001b[0m\n\u001b[0;32m      7\u001b[0m \u001b[0mprint\u001b[0m \u001b[1;33m(\u001b[0m\u001b[1;34m'Precision:'\u001b[0m\u001b[1;33m,\u001b[0m \u001b[0mprecision_score\u001b[0m\u001b[1;33m(\u001b[0m\u001b[0mthis_y\u001b[0m\u001b[1;33m,\u001b[0m \u001b[0mprediction\u001b[0m\u001b[1;33m,\u001b[0m \u001b[0maverage\u001b[0m \u001b[1;33m=\u001b[0m \u001b[1;34m\"weighted\"\u001b[0m\u001b[1;33m)\u001b[0m\u001b[1;33m)\u001b[0m\u001b[1;33m\u001b[0m\u001b[1;33m\u001b[0m\u001b[0m\n\u001b[0;32m      8\u001b[0m \u001b[0mprint\u001b[0m \u001b[1;33m(\u001b[0m\u001b[1;34m'\\n clasification report:\\n'\u001b[0m\u001b[1;33m,\u001b[0m \u001b[0mclassification_report\u001b[0m\u001b[1;33m(\u001b[0m\u001b[0mthis_y\u001b[0m\u001b[1;33m,\u001b[0m\u001b[0mprediction\u001b[0m\u001b[1;33m)\u001b[0m\u001b[1;33m)\u001b[0m\u001b[1;33m\u001b[0m\u001b[1;33m\u001b[0m\u001b[0m\n\u001b[1;32m----> 9\u001b[1;33m \u001b[0mprint\u001b[0m \u001b[1;33m(\u001b[0m\u001b[1;34m'\\n confussion matrix:\\n'\u001b[0m\u001b[1;33m,\u001b[0m\u001b[0mconfusion_matrix\u001b[0m\u001b[1;33m(\u001b[0m\u001b[0mthis_y\u001b[0m\u001b[1;33m,\u001b[0m \u001b[0mprediction\u001b[0m\u001b[1;33m)\u001b[0m\u001b[1;33m)\u001b[0m\u001b[1;33m\u001b[0m\u001b[1;33m\u001b[0m\u001b[0m\n\u001b[0m",
      "\u001b[1;32m~\\Anaconda3\\lib\\site-packages\\sklearn\\metrics\\classification.py\u001b[0m in \u001b[0;36mconfusion_matrix\u001b[1;34m(y_true, y_pred, labels, sample_weight)\u001b[0m\n\u001b[0;32m    253\u001b[0m     \u001b[0my_type\u001b[0m\u001b[1;33m,\u001b[0m \u001b[0my_true\u001b[0m\u001b[1;33m,\u001b[0m \u001b[0my_pred\u001b[0m \u001b[1;33m=\u001b[0m \u001b[0m_check_targets\u001b[0m\u001b[1;33m(\u001b[0m\u001b[0my_true\u001b[0m\u001b[1;33m,\u001b[0m \u001b[0my_pred\u001b[0m\u001b[1;33m)\u001b[0m\u001b[1;33m\u001b[0m\u001b[1;33m\u001b[0m\u001b[0m\n\u001b[0;32m    254\u001b[0m     \u001b[1;32mif\u001b[0m \u001b[0my_type\u001b[0m \u001b[1;32mnot\u001b[0m \u001b[1;32min\u001b[0m \u001b[1;33m(\u001b[0m\u001b[1;34m\"binary\"\u001b[0m\u001b[1;33m,\u001b[0m \u001b[1;34m\"multiclass\"\u001b[0m\u001b[1;33m)\u001b[0m\u001b[1;33m:\u001b[0m\u001b[1;33m\u001b[0m\u001b[1;33m\u001b[0m\u001b[0m\n\u001b[1;32m--> 255\u001b[1;33m         \u001b[1;32mraise\u001b[0m \u001b[0mValueError\u001b[0m\u001b[1;33m(\u001b[0m\u001b[1;34m\"%s is not supported\"\u001b[0m \u001b[1;33m%\u001b[0m \u001b[0my_type\u001b[0m\u001b[1;33m)\u001b[0m\u001b[1;33m\u001b[0m\u001b[1;33m\u001b[0m\u001b[0m\n\u001b[0m\u001b[0;32m    256\u001b[0m \u001b[1;33m\u001b[0m\u001b[0m\n\u001b[0;32m    257\u001b[0m     \u001b[1;32mif\u001b[0m \u001b[0mlabels\u001b[0m \u001b[1;32mis\u001b[0m \u001b[1;32mNone\u001b[0m\u001b[1;33m:\u001b[0m\u001b[1;33m\u001b[0m\u001b[1;33m\u001b[0m\u001b[0m\n",
      "\u001b[1;31mValueError\u001b[0m: multilabel-indicator is not supported"
     ]
    }
   ],
   "source": [
    "from sklearn.metrics import precision_score, recall_score, confusion_matrix, classification_report, accuracy_score, f1_score\n",
    "\n",
    "this_y = Y_test\n",
    "print('Accuracy:', accuracy_score(this_y, prediction))\n",
    "print ('F1 score:', f1_score(this_y, prediction, average = \"weighted\"))\n",
    "print ('Recall:', recall_score(this_y, prediction, average = \"weighted\"))\n",
    "print ('Precision:', precision_score(this_y, prediction, average = \"weighted\"))\n",
    "print ('\\n clasification report:\\n', classification_report(this_y,prediction))\n",
    "print ('\\n confussion matrix:\\n',confusion_matrix(this_y, prediction))"
   ]
  },
  {
   "cell_type": "code",
   "execution_count": 76,
   "metadata": {},
   "outputs": [
    {
     "name": "stdout",
     "output_type": "stream",
     "text": [
      "Saved model to disk\n"
     ]
    }
   ],
   "source": [
    "model_json = model.to_json()\n",
    "with open(\"deep_model_16bit_07~02~2020.json\", \"w\") as json_file:\n",
    "    json_file.write(model_json)\n",
    "# serialize weights to HDF5\n",
    "model.save_weights(\"deep_model_16bit_07~02~2020.h5\")\n",
    "print(\"Saved model to disk\")"
   ]
  },
  {
   "cell_type": "code",
   "execution_count": null,
   "metadata": {},
   "outputs": [],
   "source": []
  }
 ],
 "metadata": {
  "kernelspec": {
   "display_name": "Python 3",
   "language": "python",
   "name": "python3"
  },
  "language_info": {
   "codemirror_mode": {
    "name": "ipython",
    "version": 3
   },
   "file_extension": ".py",
   "mimetype": "text/x-python",
   "name": "python",
   "nbconvert_exporter": "python",
   "pygments_lexer": "ipython3",
   "version": "3.7.4"
  }
 },
 "nbformat": 4,
 "nbformat_minor": 2
}
