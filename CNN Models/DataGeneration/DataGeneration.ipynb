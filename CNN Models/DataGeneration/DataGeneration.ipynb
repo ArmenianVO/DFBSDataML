{
 "cells": [
  {
   "cell_type": "code",
   "execution_count": 1,
   "metadata": {},
   "outputs": [
    {
     "name": "stderr",
     "output_type": "stream",
     "text": [
      "Using TensorFlow backend.\n"
     ]
    }
   ],
   "source": [
    "import numpy as np\n",
    "import pandas as pd\n",
    "import seaborn as sns\n",
    "from sklearn.linear_model import LinearRegression\n",
    "import matplotlib.pyplot as plt\n",
    "from sklearn.model_selection import train_test_split\n",
    "from sklearn.feature_selection import RFE\n",
    "from sklearn.metrics import mean_squared_error, r2_score\n",
    "import os, fnmatch\n",
    "from sklearn.cluster import KMeans\n",
    "from sklearn.preprocessing import PolynomialFeatures \n",
    "import seaborn as sns\n",
    "%matplotlib inline\n",
    "from keras.layers import Input, Dense\n",
    "from keras.models import Model\n",
    "# from keras.op\n",
    "from keras import optimizers\n",
    "from keras import regularizers\n",
    "from PIL import Image\n",
    "from sklearn import preprocessing\n",
    "from sklearn.model_selection import train_test_split\n",
    "\n",
    "import keras\n",
    "from keras.models import load_model\n",
    "from keras.datasets import cifar10\n",
    "from keras.layers import Input, Dense, Conv2D, MaxPooling2D, UpSampling2D, BatchNormalization, Activation\n",
    "from keras.models import Model\n",
    "from keras.callbacks import EarlyStopping, ModelCheckpoint\n",
    "from keras.optimizers import Adam\n",
    "import os\n",
    "import pickle\n",
    "import numpy as np\n",
    "from keras.preprocessing.image import ImageDataGenerator, array_to_img, img_to_array"
   ]
  },
  {
   "cell_type": "code",
   "execution_count": 7,
   "metadata": {},
   "outputs": [],
   "source": [
    "all_tiff_files = []\n",
    "listOfFiles = os.listdir('./Dataset/Test/')\n",
    "pattern = \"*.tiff\"\n",
    "for entry in listOfFiles:\n",
    "    if fnmatch.fnmatch(entry, pattern):\n",
    "            all_tiff_files.append('./Dataset/Test/'+entry)"
   ]
  },
  {
   "cell_type": "code",
   "execution_count": 8,
   "metadata": {},
   "outputs": [
    {
     "data": {
      "text/plain": [
       "536"
      ]
     },
     "execution_count": 8,
     "metadata": {},
     "output_type": "execute_result"
    }
   ],
   "source": [
    "len(all_tiff_files)"
   ]
  },
  {
   "cell_type": "code",
   "execution_count": 9,
   "metadata": {},
   "outputs": [],
   "source": [
    "examples_count = 5"
   ]
  },
  {
   "cell_type": "code",
   "execution_count": 10,
   "metadata": {},
   "outputs": [],
   "source": [
    "datagen = ImageDataGenerator(\n",
    "    rotation_range=2,\n",
    "    width_shift_range=0.1,\n",
    "    height_shift_range=0.1,\n",
    "    shear_range=0.2,\n",
    "    horizontal_flip=True,\n",
    "    vertical_flip=False,\n",
    "    fill_mode=\"nearest\",\n",
    "    rescale = 1./0xffff\n",
    ")"
   ]
  },
  {
   "cell_type": "code",
   "execution_count": 11,
   "metadata": {},
   "outputs": [],
   "source": [
    "for i in range(len(all_tiff_files)):\n",
    "    im = Image.open(all_tiff_files[i])\n",
    "    \n",
    "    name = (all_tiff_files[i].split(\"/\")[3]).split(\".tiff\")[0]\n",
    "    class_name = (name.split(\"~~~\"))[0]\n",
    "    if(class_name == \"PN\"):\n",
    "        examples_count = 10\n",
    "    else:\n",
    "        examples_count = 3\n",
    "        \n",
    "    arr = np.array(im)#.flatten()\n",
    "    data = np.copy(arr)\n",
    "    \n",
    "    vmin = np.min(arr)\n",
    "    vmax = np.max(arr)\n",
    "    \n",
    "    arr = (arr - vmin)/(vmax - vmin)\n",
    "    arr = (0xff * arr).astype(np.uint8)\n",
    "    \n",
    "    arr = arr.reshape(arr.shape[0], arr.shape[1], 1)\n",
    "    arr = arr.reshape((1,) + arr.shape) \n",
    "    \n",
    "    i = 0\n",
    "    for batch in datagen.flow(arr, batch_size=1, save_to_dir=\"./Dataset/Test_8bit/\", save_prefix = name, save_format=\"tiff\"):\n",
    "        i += 1\n",
    "        if i > examples_count :\n",
    "            break\n",
    "    \n",
    "    vmin = np.min(data)\n",
    "    vmax = np.max(data)\n",
    "    data = (data - vmin)/(vmax - vmin)\n",
    "    data = (0xff * data).astype(np.uint8)\n",
    "    image = Image.fromarray(data)\n",
    "    image.save(\"./Dataset/Test_8bit/\"+name+\".tiff\")"
   ]
  },
  {
   "cell_type": "code",
   "execution_count": null,
   "metadata": {},
   "outputs": [],
   "source": []
  }
 ],
 "metadata": {
  "kernelspec": {
   "display_name": "Python 3",
   "language": "python",
   "name": "python3"
  },
  "language_info": {
   "codemirror_mode": {
    "name": "ipython",
    "version": 3
   },
   "file_extension": ".py",
   "mimetype": "text/x-python",
   "name": "python",
   "nbconvert_exporter": "python",
   "pygments_lexer": "ipython3",
   "version": "3.7.4"
  }
 },
 "nbformat": 4,
 "nbformat_minor": 2
}
